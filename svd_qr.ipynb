{
 "cells": [
  {
   "cell_type": "code",
   "execution_count": 89,
   "metadata": {},
   "outputs": [],
   "source": [
    "import numpy as np\n",
    "from PIL import Image\n",
    "import cv2 as cv\n",
    "from matplotlib import pyplot as plt\n",
    "from scipy.linalg import hessenberg"
   ]
  },
  {
   "cell_type": "code",
   "execution_count": 90,
   "metadata": {},
   "outputs": [],
   "source": [
    "def eigenQR(A):\n",
    "    temp,_ = hessenberg(A, True)\n",
    "    #temp = np.copy(A)\n",
    "    row = temp.shape[0]\n",
    "    QQ = np.eye(row)\n",
    "\n",
    "    for i in range(100000):\n",
    "        c = temp[row-1, row-1]\n",
    "        cI = c * np.eye(row)\n",
    "        Q, R = np.linalg.qr(np.subtract(temp, cI))\n",
    "        temp = np.add(R @ Q, cI)\n",
    "\n",
    "        QQ = QQ @ Q\n",
    "    \n",
    "    return np.diag(temp), QQ"
   ]
  },
  {
   "cell_type": "code",
   "execution_count": 91,
   "metadata": {},
   "outputs": [],
   "source": [
    "def methodSVD(matrix):\n",
    "    row, col = matrix.shape\n",
    "    \n",
    "    eigAtA, rightSingular= eigenQR(np.transpose(matrix) @ matrix)\n",
    "    Vt = np.transpose(rightSingular)\n",
    "    rank = np.count_nonzero(eigAtA)\n",
    "\n",
    "    #Sigma = np.zeros((row, col))\n",
    "    SigmaInv = np.zeros((row, col))\n",
    "    eigSort = np.sort(eigAtA)[::-1]\n",
    "    #eigAtA = eigAtA[::-1].sort()\n",
    "    for i in range(len(eigSort)):\n",
    "        #Sigma[i][i]= np.sqrt(eigSort[i])\n",
    "        SigmaInv[i][i] = 1/np.sqrt(eigSort[i])\n",
    "\n",
    "    U = matrix @ Vt @ SigmaInv\n",
    "    \n",
    "    return U, eigSort, Vt"
   ]
  },
  {
   "cell_type": "code",
   "execution_count": 92,
   "metadata": {},
   "outputs": [
    {
     "name": "stdout",
     "output_type": "stream",
     "text": [
      "[[-0.14142136 -0.70710678  0.        ]\n",
      " [-0.14142136  0.70710678  0.        ]\n",
      " [ 0.          0.          5.        ]]\n",
      "[25. 25.  1.]\n",
      "[[-0.70710678 -0.70710678  0.        ]\n",
      " [-0.70710678  0.70710678  0.        ]\n",
      " [ 0.          0.          1.        ]]\n"
     ]
    }
   ],
   "source": [
    "a = np.array([[3, -2, 0], [-2, 3, 0], [0, 0, 5]]).astype(float)\n",
    "\n",
    "a, b, c = methodSVD(a)\n",
    "print(a)\n",
    "print(b)\n",
    "print(c)"
   ]
  },
  {
   "cell_type": "code",
   "execution_count": 93,
   "metadata": {},
   "outputs": [],
   "source": [
    "def load_image():\n",
    "    img_name = input(\"Input image name: \")\n",
    "    image = Image.open(img_name)\n",
    "\n",
    "    img_arr = np.asfarray(image)\n",
    "    print(img_arr)\n",
    "    print(img_arr.shape)\n",
    "\n",
    "    return img_arr"
   ]
  },
  {
   "cell_type": "code",
   "execution_count": 96,
   "metadata": {},
   "outputs": [],
   "source": [
    "def svd_compress_gs(img, k):\n",
    "\t\"\"\"Given a matrix representing a grayscale image, compress \n",
    "\tit by taking the largest k elements from its singular values\"\"\"\n",
    "\tU, singular_vals, V = methodSVD(img)\n",
    "\trank = len(singular_vals)\n",
    "\tprint(\"Image rank %r\" % rank)\n",
    "\tif k > rank:\n",
    "\t\tprint(\"k is larger than rank of image %r\" % rank)\n",
    "\t\treturn img\n",
    "\t# take columns less than k from U\n",
    "\tU_p = U[:,:k]\n",
    "\t# take rows less than k from V\n",
    "\tV_p = V[:k,:]\n",
    "\t# build the new S matrix with top k diagnal elements\n",
    "\tS_p = np.zeros((k, k), img.dtype)\n",
    "\tfor i in range(k):\n",
    "\t\tS_p[i][i] = singular_vals[i]\n",
    "\tprint(\"U_p shape {0}, S_p shape {1}, V_p shape {2}\".format(\n",
    "\t\tU_p.shape, S_p.shape, V_p.shape))\n",
    "\tcompressed = np.dot(np.dot(U_p, S_p), V_p)\n",
    "\tss = ssim(img, compressed,\n",
    "\t\tdynamic_range=compressed.max()-compressed.min())\n",
    "\tprint(\"Strucural similarity: %r\" % ss)\n",
    "\treturn compressed"
   ]
  },
  {
   "cell_type": "code",
   "execution_count": 97,
   "metadata": {},
   "outputs": [
    {
     "name": "stdout",
     "output_type": "stream",
     "text": [
      "[[250. 220. 222. ... 226. 222. 220.]\n",
      " [222.  81.  90. ... 107.  87.  79.]\n",
      " [222.  88.  96. ... 111.  93.  85.]\n",
      " ...\n",
      " [186.   5.   9. ...  35.  35.  35.]\n",
      " [186.   5.   9. ...  36.  37.  37.]\n",
      " [186.   5.   9. ...  37.  37.  37.]]\n",
      "(850, 850)\n",
      "Image rank 850\n",
      "U_p shape (850, 10), S_p shape (10, 10), V_p shape (10, 850)\n"
     ]
    },
    {
     "ename": "NameError",
     "evalue": "name 'ssim' is not defined",
     "output_type": "error",
     "traceback": [
      "\u001b[1;31m---------------------------------------------------------------------------\u001b[0m",
      "\u001b[1;31mNameError\u001b[0m                                 Traceback (most recent call last)",
      "\u001b[1;32m<ipython-input-97-6b9be00cf2ab>\u001b[0m in \u001b[0;36m<module>\u001b[1;34m\u001b[0m\n\u001b[1;32m----> 1\u001b[1;33m \u001b[0mcomp\u001b[0m \u001b[1;33m=\u001b[0m \u001b[0msvd_compress_gs\u001b[0m\u001b[1;33m(\u001b[0m\u001b[0mload_image\u001b[0m\u001b[1;33m(\u001b[0m\u001b[1;33m)\u001b[0m\u001b[1;33m,\u001b[0m \u001b[1;36m10\u001b[0m\u001b[1;33m)\u001b[0m\u001b[1;33m\u001b[0m\u001b[1;33m\u001b[0m\u001b[0m\n\u001b[0m\u001b[0;32m      2\u001b[0m \u001b[0mplt\u001b[0m\u001b[1;33m.\u001b[0m\u001b[0mimshow\u001b[0m\u001b[1;33m(\u001b[0m\u001b[0mcomp\u001b[0m\u001b[1;33m,\u001b[0m \u001b[0minterpolation\u001b[0m\u001b[1;33m=\u001b[0m\u001b[1;34m'nearest'\u001b[0m\u001b[1;33m)\u001b[0m\u001b[1;33m\u001b[0m\u001b[1;33m\u001b[0m\u001b[0m\n\u001b[0;32m      3\u001b[0m \u001b[0mplt\u001b[0m\u001b[1;33m.\u001b[0m\u001b[0mshow\u001b[0m\u001b[1;33m(\u001b[0m\u001b[1;33m)\u001b[0m\u001b[1;33m\u001b[0m\u001b[1;33m\u001b[0m\u001b[0m\n",
      "\u001b[1;32m<ipython-input-96-ee19f328e9e6>\u001b[0m in \u001b[0;36msvd_compress_gs\u001b[1;34m(img, k)\u001b[0m\n\u001b[0;32m     19\u001b[0m \t\tU_p.shape, S_p.shape, V_p.shape))\n\u001b[0;32m     20\u001b[0m         \u001b[0mcompressed\u001b[0m \u001b[1;33m=\u001b[0m \u001b[0mnp\u001b[0m\u001b[1;33m.\u001b[0m\u001b[0mdot\u001b[0m\u001b[1;33m(\u001b[0m\u001b[0mnp\u001b[0m\u001b[1;33m.\u001b[0m\u001b[0mdot\u001b[0m\u001b[1;33m(\u001b[0m\u001b[0mU_p\u001b[0m\u001b[1;33m,\u001b[0m \u001b[0mS_p\u001b[0m\u001b[1;33m)\u001b[0m\u001b[1;33m,\u001b[0m \u001b[0mV_p\u001b[0m\u001b[1;33m)\u001b[0m\u001b[1;33m\u001b[0m\u001b[1;33m\u001b[0m\u001b[0m\n\u001b[1;32m---> 21\u001b[1;33m \tss = ssim(img, compressed,\n\u001b[0m\u001b[0;32m     22\u001b[0m \t\tdynamic_range=compressed.max()-compressed.min())\n\u001b[0;32m     23\u001b[0m         \u001b[0mprint\u001b[0m\u001b[1;33m(\u001b[0m\u001b[1;34m\"Strucural similarity: %r\"\u001b[0m \u001b[1;33m%\u001b[0m \u001b[0mss\u001b[0m\u001b[1;33m)\u001b[0m\u001b[1;33m\u001b[0m\u001b[1;33m\u001b[0m\u001b[0m\n",
      "\u001b[1;31mNameError\u001b[0m: name 'ssim' is not defined"
     ]
    }
   ],
   "source": [
    "comp = svd_compress_gs(load_image(), 10)\n",
    "plt.imshow(comp, interpolation='nearest')\n",
    "plt.show()"
   ]
  }
 ],
 "metadata": {
  "interpreter": {
   "hash": "54be17c8c20098bf0dec9263d02e5fbf0742d157b081a860183fd99b659acaba"
  },
  "kernelspec": {
   "display_name": "Python 3.9.0 64-bit",
   "name": "python3"
  },
  "language_info": {
   "codemirror_mode": {
    "name": "ipython",
    "version": 3
   },
   "file_extension": ".py",
   "mimetype": "text/x-python",
   "name": "python",
   "nbconvert_exporter": "python",
   "pygments_lexer": "ipython3",
   "version": "3.9.0"
  },
  "orig_nbformat": 4
 },
 "nbformat": 4,
 "nbformat_minor": 2
}
