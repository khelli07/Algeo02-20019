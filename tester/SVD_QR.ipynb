{
 "cells": [
  {
   "cell_type": "code",
   "execution_count": 1,
   "metadata": {},
   "outputs": [],
   "source": [
    "import numpy as np\n",
    "import math\n",
    "from scipy import linalg\n",
    "from sympy import symbols, solve\n",
    "\n",
    "import cv2 as cv\n",
    "import matplotlib.pyplot as plt"
   ]
  },
  {
   "cell_type": "markdown",
   "metadata": {},
   "source": [
    "# Singular Value Decomposition "
   ]
  },
  {
   "cell_type": "code",
   "execution_count": 2,
   "metadata": {},
   "outputs": [],
   "source": [
    "def getNorm(vals):\n",
    "    return math.sqrt(sum(list(map(lambda x: x**2, vals))))"
   ]
  },
  {
   "cell_type": "code",
   "execution_count": 3,
   "metadata": {},
   "outputs": [],
   "source": [
    "img = cv.imread('lena.png')\n",
    "img = cv.resize(img, (144, 144))\n",
    "gray_img = cv.cvtColor(img, cv.COLOR_BGR2GRAY)"
   ]
  },
  {
   "cell_type": "code",
   "execution_count": 4,
   "metadata": {},
   "outputs": [],
   "source": [
    "mat1 = np.asarray(gray_img, dtype=float)\n",
    "mat2 = np.array([[3, 1, 1],\n",
    "                [-1, 3, 1]], dtype=float)\n",
    "mat3 = np.array([[1, 1],\n",
    "                [0, 1],\n",
    "                [1, 0]], dtype=float)"
   ]
  },
  {
   "cell_type": "code",
   "execution_count": 5,
   "metadata": {},
   "outputs": [
    {
     "data": {
      "text/plain": [
       "<matplotlib.image.AxesImage at 0x1d660ee93a0>"
      ]
     },
     "execution_count": 5,
     "metadata": {},
     "output_type": "execute_result"
    }
   ],
   "source": [
    "plt.imshow(mat1, cmap=\"gray\")"
   ]
  },
  {
   "cell_type": "code",
   "execution_count": null,
   "metadata": {},
   "outputs": [],
   "source": [
    "# Matrix singular\n",
    "sleft = np.matmul(mat2, mat2.T)\n",
    "sright = np.matmul(mat2.T, mat2)\n",
    "mshape = mat2.shape\n",
    "U = np.eye(mshape[0], dtype=float)\n",
    "V = np.eye(mshape[1], dtype=float)"
   ]
  },
  {
   "cell_type": "code",
   "execution_count": null,
   "metadata": {},
   "outputs": [],
   "source": [
    "An = sleft.copy()\n",
    "epsilon = 0.05\n",
    "flag = np.sum(np.tril(An, -1))\n",
    "while (flag < -1 * epsilon or flag > epsilon):\n",
    "    Q, R = np.linalg.qr(An)\n",
    "    U = U @ Q\n",
    "    An = R @ Q\n",
    "    flag = np.sum(np.tril(An, -1))\n",
    "\n",
    "eigenValue1 = [An[i, i] for i in range(An.shape[0])]\n",
    "# eigenValue"
   ]
  },
  {
   "cell_type": "code",
   "execution_count": null,
   "metadata": {},
   "outputs": [],
   "source": [
    "An = sright.copy()\n",
    "epsilon = 0.05\n",
    "flag = np.sum(np.tril(An, -1))\n",
    "while (flag < -1 * epsilon or flag > epsilon):\n",
    "    Q, R = np.linalg.qr(An)\n",
    "    V = V @ Q\n",
    "    An = R @ Q\n",
    "    flag = np.sum(np.tril(An, -1))\n",
    "\n",
    "eigenValue2 = [An[i, i] for i in range(An.shape[0])]\n",
    "# eigenValue"
   ]
  },
  {
   "cell_type": "code",
   "execution_count": null,
   "metadata": {},
   "outputs": [],
   "source": [
    "sigmaval = [math.sqrt(x) for x in eigenValue2]\n",
    "sigmaval.sort(reverse = True)\n",
    "matsig = np.zeros(mshape, dtype=float)\n",
    "np.fill_diagonal(matsig, sigmaval)"
   ]
  },
  {
   "cell_type": "code",
   "execution_count": null,
   "metadata": {},
   "outputs": [],
   "source": [
    "# V[:, -1] *= -1\n",
    "# V"
   ]
  },
  {
   "cell_type": "code",
   "execution_count": null,
   "metadata": {},
   "outputs": [],
   "source": [
    "# U[:, -1] *= -1\n",
    "# U"
   ]
  },
  {
   "cell_type": "code",
   "execution_count": null,
   "metadata": {},
   "outputs": [],
   "source": [
    "t = U @ matsig @ V.T\n",
    "t = np.matrix.round(t, 1)"
   ]
  },
  {
   "cell_type": "code",
   "execution_count": 13,
   "metadata": {},
   "outputs": [
    {
     "data": {
      "text/plain": [
       "<matplotlib.image.AxesImage at 0x205c63b4910>"
      ]
     },
     "execution_count": 29,
     "metadata": {},
     "output_type": "execute_result"
    },
    {
     "data": {
      "image/png": "[encoded data removed]",
      "text/plain": [
       "<Figure size 432x288 with 1 Axes>"
      ]
     },
     "metadata": {
      "needs_background": "light"
     },
     "output_type": "display_data"
    },
    {
     "data": {
      "image/png": "[encoded data removed]",
      "text/plain": [
       "<Figure size 432x288 with 1 Axes>"
      ]
     },
     "metadata": {
      "needs_background": "light"
     },
     "output_type": "display_data"
    }
   ],
   "source": [
    "plt.imshow(t, cmap=\"gray\")"
   ]
  }
 ],
 "metadata": {
  "interpreter": {
   "hash": "63fd5069d213b44bf678585dea6b12cceca9941eaf7f819626cde1f2670de90d"
  },
  "kernelspec": {
   "display_name": "Python 3.9.5 64-bit",
   "name": "python3"
  },
  "language_info": {
   "codemirror_mode": {
    "name": "ipython",
    "version": 3
   },
   "file_extension": ".py",
   "mimetype": "text/x-python",
   "name": "python",
   "nbconvert_exporter": "python",
   "pygments_lexer": "ipython3",
   "version": "3.9.5"
  },
  "orig_nbformat": 4
 },
 "nbformat": 4,
 "nbformat_minor": 2
}
