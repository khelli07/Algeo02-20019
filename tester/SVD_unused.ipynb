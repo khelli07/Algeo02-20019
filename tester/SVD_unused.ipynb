{
 "cells": [
  {
   "cell_type": "code",
   "execution_count": 22,
   "metadata": {},
   "outputs": [],
   "source": [
    "import numpy as np\n",
    "import math\n",
    "from sympy import symbols, solve\n",
    "\n",
    "import cv2 as cv\n",
    "import matplotlib.pyplot as plt"
   ]
  },
  {
   "cell_type": "markdown",
   "metadata": {},
   "source": [
    "# Singular Value Decomposition "
   ]
  },
  {
   "cell_type": "markdown",
   "metadata": {},
   "source": [
    "## Determinant"
   ]
  },
  {
   "cell_type": "code",
   "execution_count": 23,
   "metadata": {},
   "outputs": [],
   "source": [
    "def getMinorEntry(matrix, row, col):\n",
    "    n = matrix.shape[0]\n",
    "    minor = np.zeros((n-1, n-1), dtype=object)\n",
    "    rowIdx = 0\n",
    "    for i in range(n):\n",
    "        colIdx = 0\n",
    "        if (i != row):\n",
    "            for j in range(n):\n",
    "                if (j != col):\n",
    "                    minor[rowIdx, colIdx] = matrix[i, j]\n",
    "                    colIdx += 1\n",
    "            rowIdx += 1\n",
    "    \n",
    "    return getDeterminant(minor)\n",
    "\n",
    "def getDeterminant(matrix):\n",
    "    if (matrix.shape[0] == 1):\n",
    "        return matrix[0, 0]\n",
    "    elif (matrix.shape[0] == 2):\n",
    "        return(matrix[0, 0]*matrix[1, 1] - (matrix[0, 1]*matrix[1, 0]))\n",
    "    else:\n",
    "        determinant = 0\n",
    "        sign = 1\n",
    "        for j in range(matrix.shape[1]):\n",
    "            determinant += matrix[0, j]*getMinorEntry(matrix, 0, j)*sign\n",
    "            sign *= -1;\n",
    "    return determinant"
   ]
  },
  {
   "cell_type": "markdown",
   "metadata": {},
   "source": [
    "## Gauss-Jordan Matrix Manipulation"
   ]
  },
  {
   "cell_type": "code",
   "execution_count": 24,
   "metadata": {},
   "outputs": [],
   "source": [
    "def getIdxUtama(matrix, row):\n",
    "    col = 0\n",
    "    while (col < matrix.shape[1]):\n",
    "        if (matrix[row, col] != 0):\n",
    "            return col\n",
    "        else:\n",
    "            col += 1\n",
    "    return -1\n",
    "\n",
    "def swapRow(matrix, row1, row2):\n",
    "    for j in range(matrix.shape[1]):\n",
    "        tmp = matrix[row1, j]\n",
    "        matrix[row1, j] = matrix[row2, j]\n",
    "        matrix[row2, j] = tmp\n",
    "\n",
    "def gaussElimination(matrix):\n",
    "    mtemp = matrix.copy()\n",
    "    row = mtemp.shape[0]\n",
    "    col = mtemp.shape[1]\n",
    "    zeroRow = row - 1\n",
    "    for k in range(row):\n",
    "        minIdx = k\n",
    "        for i in range(k, row):\n",
    "            if (getIdxUtama(mtemp, i) == -1):\n",
    "                minIdx = i\n",
    "            elif (getIdxUtama(mtemp, i) < getIdxUtama(mtemp, minIdx)):\n",
    "                minIdx = i\n",
    "        swapRow(mtemp, k, minIdx)\n",
    "\n",
    "        if (getIdxUtama(mtemp, k) == -1):\n",
    "            swapRow(mtemp, k, zeroRow)\n",
    "            zeroRow -= 1\n",
    "\n",
    "        idxUtama = getIdxUtama(mtemp, k)\n",
    "        if (idxUtama != -1):\n",
    "            divisor = mtemp[k, idxUtama]\n",
    "            for j in range(col):\n",
    "                mtemp[k, j] = mtemp[k, j] / divisor\n",
    "\n",
    "        for i in range(k + 1, row):\n",
    "            mult = mtemp[i, idxUtama]\n",
    "            for j in range(col):\n",
    "                mtemp[i, j] -= mult * mtemp[k, j]\n",
    "    \n",
    "    return mtemp\n",
    "\n",
    "def gaussJordanElimination(matrix):\n",
    "    mtemp = gaussElimination(matrix)\n",
    "    row = mtemp.shape[0]\n",
    "    col = mtemp.shape[1]\n",
    "    for k in range(row - 1, -1, -1):\n",
    "        idxUtama = getIdxUtama(mtemp, k)\n",
    "        \n",
    "        for i in range(k - 1, -1, -1):\n",
    "            mult = mtemp[i, idxUtama]\n",
    "            for j in range(col):\n",
    "                mtemp[i, j] -= mult * mtemp[k, j]\n",
    "\n",
    "    return mtemp"
   ]
  },
  {
   "cell_type": "markdown",
   "metadata": {},
   "source": [
    "## Eigen-related Functions"
   ]
  },
  {
   "cell_type": "code",
   "execution_count": 25,
   "metadata": {},
   "outputs": [],
   "source": [
    "def getEigenVal(matrix):\n",
    "    mcopy = matrix.copy()\n",
    "    x = symbols('x')\n",
    "    nshape = mcopy.shape[0]\n",
    "    lambdaId = np.eye(nshape)*x - mcopy\n",
    "\n",
    "    expr = getDeterminant(lambdaId)\n",
    "    val = solve(expr)\n",
    "\n",
    "    # Ambil value unik saja\n",
    "    val = [np.float(x) for x in set(val)]\n",
    "    val.sort(reverse=True)\n",
    "    return val\n",
    "\n",
    "def getEigenMatrix(smat):\n",
    "    eigenList = getEigenVal(smat)\n",
    "    resultMatrix = []\n",
    "    for ctr in range(len(eigenList)):\n",
    "        eigval = eigenList[ctr]\n",
    "        mdiag = np.eye(smat.shape[0])*eigval\n",
    "        mtemp = mdiag - smat\n",
    "        mtemp = gaussJordanElimination(mtemp)\n",
    "\n",
    "        eigenVec = [0 for i in range(mtemp.shape[0])]\n",
    "        delta = 0\n",
    "        for i in range(len(eigenVec) - 1, -1 , -1):\n",
    "            idxUtama = getIdxUtama(mtemp, i)\n",
    "            \n",
    "            # Kalo terlompat, diisi 1\n",
    "            # Misal tadi isi x3 (idx 2) lalu x1 (idx 0) -> x2 kosong jadi assign 1\n",
    "            if (i != len(eigenVec) - 1):\n",
    "                delta = prevFilled - idxUtama - 1\n",
    "                if (delta > 0):\n",
    "                    while (delta != 0):\n",
    "                        eigenVec[prevFilled - delta] = 1.0\n",
    "                        delta -= 1\n",
    "\n",
    "            if (idxUtama == -1):\n",
    "                eigenVec[i] = 1.0\n",
    "                prevFilled = i\n",
    "            else:\n",
    "                eigenVec[idxUtama] = 0\n",
    "                prevFilled = idxUtama\n",
    "                for j in range(mtemp.shape[1]):\n",
    "                    if (j != idxUtama):\n",
    "                        eigenVec[idxUtama] -= mtemp[idxUtama, j] * eigenVec[j]\n",
    "\n",
    "        # Normalize vectors\n",
    "        tmpList = [math.pow(x, 2) for x in eigenVec]\n",
    "        vectorLength = math.sqrt(sum(tmpList))\n",
    "        eigenVec = [x/vectorLength for x in eigenVec]\n",
    "\n",
    "        resultMatrix.append(eigenVec)\n",
    "\n",
    "    resultMatrix = np.array(resultMatrix, dtype=float)\n",
    "\n",
    "    return resultMatrix.T"
   ]
  },
  {
   "cell_type": "markdown",
   "metadata": {},
   "source": [
    "# Golub - Reinsh (halfway tried)"
   ]
  },
  {
   "cell_type": "code",
   "execution_count": null,
   "metadata": {},
   "outputs": [],
   "source": [
    "eps = 1.e-10  # assumes double precision\n",
    "tol = 1.e-64/eps\n",
    "e = [0 for _ in range(n)]\n",
    "\n",
    "for i in range(m):\n",
    "    for j in range(n):\n",
    "        U[i, j] = A[i, j]\n",
    "# Householder reduction to bidiagonal form\n",
    "g = 0.0; x = 0.0\n",
    "for i in range(n):\n",
    "    e[i] = g; s = 0.0; l = i + 1\n",
    "    for j in range(i, m):\n",
    "        s = s + u[j, i]**2\n",
    "        if s < tol: g = 0.0\n",
    "        else:\n",
    "            f = u[i, i]\n",
    "            g = math.sqrt(s) if f < 0.0 else -math.sqrt(s)\n",
    "            h = f * g - s\n",
    "            u[i, i] = f - g\n",
    "            for j in range(l, n):\n",
    "                s = 0.0\n",
    "                for k in range(i, m): s = s + u[k, i] * u[k, j]\n",
    "                f = s / h \n",
    "                for k in range(i, m): u[k, j] = u[k, j] + f * u[k, i]\n",
    "\n",
    "        q[i] = g; s = 0.0\n",
    "        for j in range(l, n): s = s + u[i, j]**2\n",
    "        if s < tol: g = 0.0\n",
    "        else:\n",
    "            f = u[i, i + 1]\n",
    "            g = math.sqrt(s) if f < 0.0 else -math.sqrt(s)\n",
    "            h = f * g - s \n",
    "            u[i, i + 1] = f - g \n",
    "            for j in range(l, n): e[j] = u[i, j]/h \n",
    "            for j in range(l, m):\n",
    "                s = 0.0\n",
    "                for k in range(l, m): s = s + u[j, k] * u[i, k]\n",
    "                for k in range(l, n): u[j, k] = u[j, k] + s * e[k]\n",
    "        y = abs(q[i]) + abs(e[i])\n",
    "        if y > x: x = y\n",
    "# Accumulation of right-hand transformations\n",
    "for i in range(n - 1, -1, -1):\n",
    "    if g != 0:\n",
    "        h = u[i, i + 1] * g\n",
    "        for j in range(l - 1, n): v[j, i] = u[i, j]/h\n",
    "        for j in range(l - 1, n):\n",
    "            s = 0\n",
    "            for k in range(l - 1, n):\n",
    "                s = s + u[i, k] * v[k, j]\n",
    "            for k in range(l - 1, n):\n",
    "                v[k, j] = v[k, j] + s * v[k, i]\n",
    "    \n",
    "    for j in range(l - 1, n):\n",
    "        v[i, j] = v[j, i] = 0\n",
    "    v[i, i] = 1.0\n",
    "    g = e[i]; l = i \n",
    "\n",
    "# Accumulation of left-hand transformations\n",
    "for i in range(n-1,-1,-1):\n",
    "    l = i+1\n",
    "    g = q[i]\n",
    "    for j in range(l,n): u[i][j] = 0.0\n",
    "    if g != 0.0:\n",
    "        h = u[i][i]*g\n",
    "        for j in range(l,n):\n",
    "            s=0.0\n",
    "            for k in range(l,m): s += (u[k][i]*u[k][j])\n",
    "            f = s/h\n",
    "            for k in range(i,m): u[k][j] += (f*u[k][i])\n",
    "        for j in range(i,m): u[j][i] = u[j][i]/g\n",
    "    else:\n",
    "        for j in range(i,m): u[j][i] = 0.0\n",
    "    u[i][i] += 1.0"
   ]
  },
  {
   "cell_type": "markdown",
   "metadata": {},
   "source": [
    "# Householder (failed)"
   ]
  },
  {
   "cell_type": "code",
   "execution_count": null,
   "metadata": {},
   "outputs": [],
   "source": [
    "def getHouseholder(matrix, i):\n",
    "    look = matrix[i:, i:]\n",
    "    ai = np.matrix(look[:, 0]).T\n",
    "    nshape = len(ai)\n",
    "\n",
    "    ei = np.matrix([1 if i == 0 else 0 for i in range(nshape)]).T\n",
    "    v1 = ai + sign(ai[0, 0])*np.linalg.norm(ai)*ei\n",
    "\n",
    "    H = np.eye(nshape) - 2*(v1 @ v1.T)/(v1.T @ v1)\n",
    "    Hi = np.eye(matrix.shape[0]) \n",
    "    Hi[i:, i:] = H\n",
    "\n",
    "    return Hi\n",
    "\n",
    "# m = sright.copy()\n",
    "# for i in range(m.shape[0] - 1):\n",
    "#     H = getHouseholder(m, i)\n",
    "#     # U = H @ U\n",
    "#     m = H @ m\n",
    "\n",
    "# leftmost_col = np.matrix(m[:, 0]).T\n",
    "# rest_col = m[:, 1:].T\n",
    "\n",
    "# for i in range(m.shape[0] - 2):\n",
    "#     rest_col = np.matrix(getHouseholder(rest_col, i) @ rest_col)"
   ]
  },
  {
   "cell_type": "code",
   "execution_count": null,
   "metadata": {},
   "outputs": [],
   "source": [
    "def getColGivenRotation(matrix, i, j):\n",
    "    aij, bij = matrix[i-1, j], matrix[i, j]\n",
    "    norm = getNorm([aij, bij])\n",
    "    if norm != 0:\n",
    "        cos0 = aij/norm\n",
    "        sin0 = bij/norm \n",
    "\n",
    "    rot = np.matrix([[cos0, sin0], \n",
    "                    [-sin0, cos0]])\n",
    "\n",
    "    Gi = np.eye(matrix.shape[0])\n",
    "    Gi[i - 1: i + 1, i - 1: i + 1] = rot\n",
    "    return Gi"
   ]
  },
  {
   "cell_type": "code",
   "execution_count": 26,
   "metadata": {},
   "outputs": [
    {
     "data": {
      "text/plain": [
       "array([[ 3.,  1.,  1.],\n",
       "       [-1.,  3.,  1.]])"
      ]
     },
     "execution_count": 26,
     "metadata": {},
     "output_type": "execute_result"
    }
   ],
   "source": [
    "mat = np.array([[3, 1, 1],\n",
    "                [-1, 3, 1]], dtype=float)\n",
    "# mat = np.array([[1, 1],\n",
    "#                 [0, 1],\n",
    "#                 [1, 0]], dtype=float)\n",
    "mshape = mat.shape\n",
    "mat"
   ]
  },
  {
   "cell_type": "code",
   "execution_count": 27,
   "metadata": {},
   "outputs": [
    {
     "data": {
      "text/plain": [
       "array([[10.,  0.,  2.],\n",
       "       [ 0., 10.,  4.],\n",
       "       [ 2.,  4.,  2.]])"
      ]
     },
     "execution_count": 27,
     "metadata": {},
     "output_type": "execute_result"
    }
   ],
   "source": [
    "# Matrix singular\n",
    "sleft = np.matmul(mat, mat.T)\n",
    "sright = np.matmul(mat.T, mat)\n",
    "sright"
   ]
  },
  {
   "cell_type": "code",
   "execution_count": 28,
   "metadata": {},
   "outputs": [],
   "source": [
    "leftEigen = getEigenVal(sleft)\n",
    "rightEigen = getEigenVal(sright)\n",
    "# Concat\n",
    "concat = leftEigen.copy()\n",
    "concat.extend(rightEigen) \n",
    "\n",
    "# Get nonzero unique value only\n",
    "sigmaval = [math.sqrt(x) for x in set(concat) if x != 0]\n",
    "sigmaval.sort(reverse = True)"
   ]
  },
  {
   "cell_type": "code",
   "execution_count": 29,
   "metadata": {},
   "outputs": [],
   "source": [
    "# U Matrix\n",
    "UMat = getEigenMatrix(sleft)\n",
    "\n",
    "# Sigma Matrix\n",
    "matsig = np.zeros(mshape, dtype=float)\n",
    "np.fill_diagonal(matsig, sigmaval)\n",
    "\n",
    "# VTranspose Matix\n",
    "VTMat = getEigenMatrix(sright).T"
   ]
  },
  {
   "cell_type": "code",
   "execution_count": 30,
   "metadata": {},
   "outputs": [
    {
     "data": {
      "text/plain": [
       "array([[ 3.,  1.,  1.],\n",
       "       [-1.,  3.,  1.]])"
      ]
     },
     "execution_count": 30,
     "metadata": {},
     "output_type": "execute_result"
    }
   ],
   "source": [
    "UMat @ matsig @ VTMat"
   ]
  },
  {
   "cell_type": "code",
   "execution_count": 31,
   "metadata": {},
   "outputs": [
    {
     "data": {
      "text/plain": [
       "array([[1., 2., 1.],\n",
       "       [1., 2., 1.]])"
      ]
     },
     "execution_count": 31,
     "metadata": {},
     "output_type": "execute_result"
    }
   ],
   "source": [
    "rank = 2\n",
    "U = np.reshape(UMat[:, 0], (mat.shape[0], 1))\n",
    "VT = np.reshape(VTMat[0, :], (1, (mat.shape[1])))\n",
    "compressedMatrix = U * matsig[0, 0] @ VT\n",
    "for i in range(1, rank - 1):\n",
    "    U = np.reshape(UMat[:, i], (mat.shape[0], 1))\n",
    "    VT = np.reshape(VTMat[i, :], (1, (mat.shape[1])))\n",
    "    compressedMatrix += U * matsig[i, i] @ VT\n",
    "\n",
    "compressedMatrix"
   ]
  },
  {
   "cell_type": "code",
   "execution_count": 32,
   "metadata": {},
   "outputs": [],
   "source": [
    "img = cv.imread('lena.png')\n",
    "img = cv.resize(img, (10, 10))\n",
    "gray_img = cv.cvtColor(img, cv.COLOR_BGR2GRAY)\n",
    "matrix = np.asarray(gray_img)"
   ]
  },
  {
   "cell_type": "code",
   "execution_count": 33,
   "metadata": {},
   "outputs": [
    {
     "data": {
      "text/plain": [
       "array([582.22144002 +0.j        ,  38.91244495+69.68141477j,\n",
       "        38.91244495-69.68141477j, 118.24871468 +6.44933765j,\n",
       "       118.24871468 -6.44933765j])"
      ]
     },
     "execution_count": 33,
     "metadata": {},
     "output_type": "execute_result"
    }
   ],
   "source": [
    "np.linalg.eigvals(matrix)[:5]"
   ]
  },
  {
   "cell_type": "code",
   "execution_count": 35,
   "metadata": {},
   "outputs": [],
   "source": [
    "mcopy = matrix.copy()\n",
    "x = symbols('x')\n",
    "nshape = mcopy.shape[0]\n",
    "lambdaId = np.eye(nshape)*x - mcopy\n",
    "for k in range(1, nshape):\n",
    "    for i in range(k, nshape):\n",
    "        p = lambdaId[i, k - 1]\n",
    "        q = lambdaId[k - 1, k - 1]\n",
    "\n",
    "        if (q != 0):\n",
    "            lambdaId[i, :] = lambdaId[i, :] - (p / q) * (lambdaId[k - 1, :])"
   ]
  }
 ],
 "metadata": {
  "interpreter": {
   "hash": "63fd5069d213b44bf678585dea6b12cceca9941eaf7f819626cde1f2670de90d"
  },
  "kernelspec": {
   "display_name": "Python 3.9.5 64-bit",
   "name": "python3"
  },
  "language_info": {
   "codemirror_mode": {
    "name": "ipython",
    "version": 3
   },
   "file_extension": ".py",
   "mimetype": "text/x-python",
   "name": "python",
   "nbconvert_exporter": "python",
   "pygments_lexer": "ipython3",
   "version": "3.9.5"
  },
  "orig_nbformat": 4
 },
 "nbformat": 4,
 "nbformat_minor": 2
}
