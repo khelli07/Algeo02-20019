{
 "cells": [
  {
   "cell_type": "code",
   "execution_count": 462,
   "metadata": {},
   "outputs": [],
   "source": [
    "import numpy as np\n",
    "import math\n",
    "from scipy import linalg\n",
    "\n",
    "import cv2 as cv\n",
    "import matplotlib.pyplot as plt"
   ]
  },
  {
   "cell_type": "markdown",
   "metadata": {},
   "source": [
    "# Singular Value Decomposition "
   ]
  },
  {
   "cell_type": "code",
   "execution_count": 463,
   "metadata": {},
   "outputs": [],
   "source": [
    "img = cv.imread('lena.png')\n",
    "img = cv.resize(img, (5,5))\n",
    "gray_img = cv.cvtColor(img, cv.COLOR_BGR2GRAY)"
   ]
  },
  {
   "cell_type": "code",
   "execution_count": 464,
   "metadata": {},
   "outputs": [],
   "source": [
    "mat1 = np.asarray(gray_img, dtype=float)\n",
    "mat2 = np.array([[3, 1, 1],\n",
    "                [-1, 3, 1]], dtype=float)\n",
    "mat3 = np.array([[1, 1],\n",
    "                [0, 1],\n",
    "                [1, 0]], dtype=float)"
   ]
  },
  {
   "cell_type": "code",
   "execution_count": 465,
   "metadata": {},
   "outputs": [
    {
     "data": {
      "text/plain": [
       "<matplotlib.image.AxesImage at 0x23282c02550>"
      ]
     },
     "execution_count": 465,
     "metadata": {},
     "output_type": "execute_result"
    },
    {
     "data": {
      "image/png": "[encoded data removed]",
      "text/plain": [
       "<Figure size 432x288 with 1 Axes>"
      ]
     },
     "metadata": {
      "needs_background": "light"
     },
     "output_type": "display_data"
    }
   ],
   "source": [
    "plt.imshow(mat1, cmap=\"gray\")"
   ]
  },
  {
   "cell_type": "code",
   "execution_count": 466,
   "metadata": {},
   "outputs": [],
   "source": [
    "# Matrix singular\n",
    "sleft = np.matmul(mat1, mat1.T)\n",
    "sright = np.matmul(mat1.T, mat1)\n",
    "m, n = mat1.shape"
   ]
  },
  {
   "cell_type": "code",
   "execution_count": 467,
   "metadata": {},
   "outputs": [],
   "source": [
    "def getNorm(vals):\n",
    "    return math.sqrt(sum(list(map(lambda x: x**2, vals))))"
   ]
  },
  {
   "cell_type": "code",
   "execution_count": 468,
   "metadata": {},
   "outputs": [],
   "source": [
    "def Householder(vec):\n",
    "    beta = np.linalg.norm(vec)\n",
    "    e1 = np.zeros(vec.shape, dtype=np.float64)\n",
    "    e1[0] = 1.0 \n",
    "    w = vec - beta * e1 \n",
    "    if (np.linalg.norm(w) != 0):\n",
    "        w = w / np.linalg.norm(w)\n",
    "    return np.matrix(w, dtype=np.float64), beta"
   ]
  },
  {
   "cell_type": "code",
   "execution_count": 469,
   "metadata": {},
   "outputs": [],
   "source": [
    "def biDiagonalize(mat):\n",
    "    m, n = np.shape(mat)\n",
    "    B = np.matrix(mat.copy(), dtype=np.float64)\n",
    "    U = np.matrix(np.eye(m))\n",
    "    V = np.matrix(np.eye(n))\n",
    "    for k in range(min(m, n)):\n",
    "        if k < m: \n",
    "            w, _ = Householder(B[k:, k])\n",
    "            B[k:, k:] = B[k:, k:] - 2 * w @ (w.T @ B[k:, k:])\n",
    "            U[k:, :] = U[k:, :] - 2 * w @ (w.T @ U[k:, :])\n",
    "        \n",
    "        if k < n - 1:\n",
    "            w, _ = Householder(B[k, k + 1:])\n",
    "            B[k:, k + 1:] = B[k:, k + 1:] - 2 * (B[k:, k + 1:] @ w.T) @ w\n",
    "            V[:, k + 1:] = V[:, k + 1:] - 2 * (V[:, k + 1:] @ w.T) @ w\n",
    "\n",
    "    U = U.T \n",
    "    return U, B, V"
   ]
  },
  {
   "cell_type": "code",
   "execution_count": 474,
   "metadata": {},
   "outputs": [],
   "source": [
    "U, B, V = biDiagonalize(mat2)"
   ]
  }
 ],
 "metadata": {
  "interpreter": {
   "hash": "63fd5069d213b44bf678585dea6b12cceca9941eaf7f819626cde1f2670de90d"
  },
  "kernelspec": {
   "display_name": "Python 3.9.5 64-bit",
   "name": "python3"
  },
  "language_info": {
   "codemirror_mode": {
    "name": "ipython",
    "version": 3
   },
   "file_extension": ".py",
   "mimetype": "text/x-python",
   "name": "python",
   "nbconvert_exporter": "python",
   "pygments_lexer": "ipython3",
   "version": "3.9.5"
  },
  "orig_nbformat": 4
 },
 "nbformat": 4,
 "nbformat_minor": 2
}
