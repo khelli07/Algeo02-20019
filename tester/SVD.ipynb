{
 "cells": [
  {
   "cell_type": "code",
   "execution_count": 206,
   "metadata": {},
   "outputs": [],
   "source": [
    "import numpy as np\n",
    "import matplotlib.pyplot as plt\n",
    "from sympy import symbols, solve"
   ]
  },
  {
   "cell_type": "markdown",
   "metadata": {},
   "source": [
    "# Functions"
   ]
  },
  {
   "cell_type": "code",
   "execution_count": 207,
   "metadata": {},
   "outputs": [],
   "source": [
    "def getMinorEntry(matrix, row, col):\n",
    "    n = matrix.shape[0]\n",
    "    minor = np.zeros((n-1, n-1), dtype=object)\n",
    "    rowIdx = 0\n",
    "    for i in range(n):\n",
    "        colIdx = 0\n",
    "        if (i != row):\n",
    "            for j in range(n):\n",
    "                if (j != col):\n",
    "                    minor[rowIdx, colIdx] = matrix[i, j]\n",
    "                    colIdx += 1\n",
    "            rowIdx += 1\n",
    "    \n",
    "    return getDeterminant(minor)\n",
    "\n",
    "def getDeterminant(matrix):\n",
    "    if (matrix.shape[0] == 1):\n",
    "        return matrix[0, 0]\n",
    "    elif (matrix.shape[0] == 2):\n",
    "        return(matrix[0, 0]*matrix[1, 1] - (matrix[0, 1]*matrix[1, 0]))\n",
    "    else:\n",
    "        determinant = 0\n",
    "        sign = 1\n",
    "        for j in range(matrix.shape[1]):\n",
    "            determinant += matrix[0, j]*getMinorEntry(matrix, 0, j)*sign\n",
    "            sign *= -1;\n",
    "    return determinant\n",
    "\n",
    "def getEigenVal(matrix):\n",
    "    mcopy = matrix.copy()\n",
    "    x = symbols('x')\n",
    "    nshape = mcopy.shape[0]\n",
    "    lambdaId = np.eye(nshape)*x - mcopy\n",
    "\n",
    "    expr = getDeterminant(lambdaId)\n",
    "    val = solve(expr)\n",
    "\n",
    "    # Ambil value unik saja\n",
    "    val = [np.float(x) for x in set(val)]\n",
    "    return val"
   ]
  },
  {
   "cell_type": "markdown",
   "metadata": {},
   "source": [
    "# Singular Value Decomposition "
   ]
  },
  {
   "cell_type": "markdown",
   "metadata": {},
   "source": [
    "### Important functions:\n",
    "\n",
    "### * np.zeros -> make n x m matrix filled with 0\n",
    "### * np.fill_diagonal -> fill diagonal without changing matrix shape\n",
    "### * symbol() and solve() in sympy -> solving equation"
   ]
  },
  {
   "cell_type": "code",
   "execution_count": 208,
   "metadata": {},
   "outputs": [
    {
     "data": {
      "text/plain": [
       "array([[ 3.,  1.,  1.],\n",
       "       [-1.,  3.,  1.]])"
      ]
     },
     "execution_count": 208,
     "metadata": {},
     "output_type": "execute_result"
    }
   ],
   "source": [
    "mat = np.array([[3, 1, 1],\n",
    "                [-1, 3, 1]], dtype=float)\n",
    "mshape = mat.shape\n",
    "mat"
   ]
  },
  {
   "cell_type": "code",
   "execution_count": 209,
   "metadata": {},
   "outputs": [],
   "source": [
    "ushape = (mshape[0], mshape[0])\n",
    "vshape = (mshape[1], mshape[1])\n",
    "#sigma shape = mshape\n",
    "sigmaVal = [0 for i in range(min(mshape))]"
   ]
  },
  {
   "cell_type": "code",
   "execution_count": 210,
   "metadata": {},
   "outputs": [
    {
     "data": {
      "text/plain": [
       "array([[10.,  0.,  2.],\n",
       "       [ 0., 10.,  4.],\n",
       "       [ 2.,  4.,  2.]])"
      ]
     },
     "execution_count": 210,
     "metadata": {},
     "output_type": "execute_result"
    }
   ],
   "source": [
    "#Langkah 1: Singular Kiri\n",
    "ski = np.matmul(mat, mat.T)\n",
    "ska = np.matmul(mat.T, mat)\n",
    "ska"
   ]
  },
  {
   "cell_type": "code",
   "execution_count": 211,
   "metadata": {},
   "outputs": [
    {
     "name": "stdout",
     "output_type": "stream",
     "text": [
      "[ 0. 10. 12.] [12. 10.]\n",
      "[10.0, 0.0, 12.0] [10.0, 12.0]\n"
     ]
    }
   ],
   "source": [
    "#Ubah jadi matriks upper triangular gunakan OBE\n",
    "print(np.linalg.eigvals(ska), np.linalg.eigvals(ski))\n",
    "print(getEigenVal(ska), getEigenVal(ski))"
   ]
  }
 ],
 "metadata": {
  "interpreter": {
   "hash": "63fd5069d213b44bf678585dea6b12cceca9941eaf7f819626cde1f2670de90d"
  },
  "kernelspec": {
   "display_name": "Python 3.9.5 64-bit",
   "name": "python3"
  },
  "language_info": {
   "codemirror_mode": {
    "name": "ipython",
    "version": 3
   },
   "file_extension": ".py",
   "mimetype": "text/x-python",
   "name": "python",
   "nbconvert_exporter": "python",
   "pygments_lexer": "ipython3",
   "version": "3.9.5"
  },
  "orig_nbformat": 4
 },
 "nbformat": 4,
 "nbformat_minor": 2
}
