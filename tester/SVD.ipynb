{
 "cells": [
  {
   "cell_type": "code",
   "execution_count": 126,
   "metadata": {},
   "outputs": [],
   "source": [
    "import numpy as np\n",
    "import math\n",
    "import matplotlib.pyplot as plt\n",
    "from sympy import symbols, solve"
   ]
  },
  {
   "cell_type": "markdown",
   "metadata": {},
   "source": [
    "# Functions"
   ]
  },
  {
   "cell_type": "code",
   "execution_count": 127,
   "metadata": {},
   "outputs": [],
   "source": [
    "def getMinorEntry(matrix, row, col):\n",
    "    n = matrix.shape[0]\n",
    "    minor = np.zeros((n-1, n-1), dtype=object)\n",
    "    rowIdx = 0\n",
    "    for i in range(n):\n",
    "        colIdx = 0\n",
    "        if (i != row):\n",
    "            for j in range(n):\n",
    "                if (j != col):\n",
    "                    minor[rowIdx, colIdx] = matrix[i, j]\n",
    "                    colIdx += 1\n",
    "            rowIdx += 1\n",
    "    \n",
    "    return getDeterminant(minor)\n",
    "\n",
    "def getDeterminant(matrix):\n",
    "    if (matrix.shape[0] == 1):\n",
    "        return matrix[0, 0]\n",
    "    elif (matrix.shape[0] == 2):\n",
    "        return(matrix[0, 0]*matrix[1, 1] - (matrix[0, 1]*matrix[1, 0]))\n",
    "    else:\n",
    "        determinant = 0\n",
    "        sign = 1\n",
    "        for j in range(matrix.shape[1]):\n",
    "            determinant += matrix[0, j]*getMinorEntry(matrix, 0, j)*sign\n",
    "            sign *= -1;\n",
    "    return determinant\n",
    "\n",
    "def getEigenVal(matrix):\n",
    "    mcopy = matrix.copy()\n",
    "    x = symbols('x')\n",
    "    nshape = mcopy.shape[0]\n",
    "    lambdaId = np.eye(nshape)*x - mcopy\n",
    "\n",
    "    expr = getDeterminant(lambdaId)\n",
    "    val = solve(expr)\n",
    "\n",
    "    # Ambil value unik saja\n",
    "    val = [np.float(x) for x in set(val)]\n",
    "    val.sort(reverse=True)\n",
    "    return val"
   ]
  },
  {
   "cell_type": "code",
   "execution_count": 128,
   "metadata": {},
   "outputs": [],
   "source": [
    "def getIdxUtama(matrix, row):\n",
    "    col = 0\n",
    "    while (col < matrix.shape[1]):\n",
    "        if (matrix[row, col] != 0):\n",
    "            return col\n",
    "        else:\n",
    "            col += 1\n",
    "    return -1\n",
    "\n",
    "def swapRow(matrix, row1, row2):\n",
    "    for j in range(matrix.shape[1]):\n",
    "        tmp = matrix[row1, j]\n",
    "        matrix[row1, j] = matrix[row2, j]\n",
    "        matrix[row2, j] = tmp\n",
    "\n",
    "def gaussElimination(matrix):\n",
    "    mtemp = matrix.copy()\n",
    "    row = mtemp.shape[0]\n",
    "    col = mtemp.shape[1]\n",
    "    zeroRow = row - 1\n",
    "    for k in range(row):\n",
    "        minIdx = k\n",
    "        for i in range(k, row):\n",
    "            if (getIdxUtama(mtemp, i) == -1):\n",
    "                minIdx = i\n",
    "            elif (getIdxUtama(mtemp, i) < getIdxUtama(mtemp, minIdx)):\n",
    "                minIdx = i\n",
    "        swapRow(mtemp, k, minIdx)\n",
    "\n",
    "        if (getIdxUtama(mtemp, k) == -1):\n",
    "            swapRow(mtemp, k, zeroRow)\n",
    "            zeroRow -= 1\n",
    "\n",
    "        idxUtama = getIdxUtama(mtemp, k)\n",
    "        if (idxUtama != -1):\n",
    "            divisor = mtemp[k, idxUtama]\n",
    "            for j in range(col):\n",
    "                mtemp[k, j] = mtemp[k, j] / divisor\n",
    "\n",
    "        for i in range(k + 1, row):\n",
    "            mult = mtemp[i, idxUtama]\n",
    "            for j in range(col):\n",
    "                mtemp[i, j] -= mult * mtemp[k, j]\n",
    "    \n",
    "    return mtemp\n",
    "\n",
    "def gaussJordanElimination(matrix):\n",
    "    mtemp = gaussElimination(matrix)\n",
    "    row = mtemp.shape[0]\n",
    "    col = mtemp.shape[1]\n",
    "    for k in range(row - 1, -1, -1):\n",
    "        idxUtama = getIdxUtama(mtemp, k)\n",
    "        \n",
    "        for i in range(k - 1, -1, -1):\n",
    "            mult = mtemp[i, idxUtama]\n",
    "            for j in range(col):\n",
    "                mtemp[i, j] -= mult * mtemp[k, j]\n",
    "\n",
    "    return mtemp"
   ]
  },
  {
   "cell_type": "markdown",
   "metadata": {},
   "source": [
    "# Singular Value Decomposition "
   ]
  },
  {
   "cell_type": "markdown",
   "metadata": {},
   "source": [
    "### Important functions:\n",
    "\n",
    "### * np.zeros -> make n x m matrix filled with 0\n",
    "### * np.fill_diagonal -> fill diagonal without changing matrix shape\n",
    "### * symbol() and solve() in sympy -> solving equation"
   ]
  },
  {
   "cell_type": "code",
   "execution_count": 129,
   "metadata": {},
   "outputs": [
    {
     "data": {
      "text/plain": [
       "array([[ 3.,  1.,  1.],\n",
       "       [-1.,  3.,  1.]])"
      ]
     },
     "execution_count": 129,
     "metadata": {},
     "output_type": "execute_result"
    }
   ],
   "source": [
    "mat = np.array([[3, 1, 1],\n",
    "                [-1, 3, 1]], dtype=float)\n",
    "mshape = mat.shape\n",
    "mat"
   ]
  },
  {
   "cell_type": "code",
   "execution_count": 130,
   "metadata": {},
   "outputs": [
    {
     "data": {
      "text/plain": [
       "array([[10.,  0.,  2.],\n",
       "       [ 0., 10.,  4.],\n",
       "       [ 2.,  4.,  2.]])"
      ]
     },
     "execution_count": 130,
     "metadata": {},
     "output_type": "execute_result"
    }
   ],
   "source": [
    "#Langkah 1: Singular Kiri\n",
    "sleft = np.matmul(mat, mat.T)\n",
    "sright = np.matmul(mat.T, mat)\n",
    "sright"
   ]
  },
  {
   "cell_type": "code",
   "execution_count": 131,
   "metadata": {},
   "outputs": [
    {
     "name": "stdout",
     "output_type": "stream",
     "text": [
      "[ 0. 10. 12.] [12. 10.]\n",
      "[12.0, 10.0, 0.0] [12.0, 10.0]\n"
     ]
    }
   ],
   "source": [
    "#Eigen value\n",
    "print(np.linalg.eigvals(sright), np.linalg.eigvals(sleft))\n",
    "print(getEigenVal(sright), getEigenVal(sleft))"
   ]
  },
  {
   "cell_type": "code",
   "execution_count": 132,
   "metadata": {},
   "outputs": [],
   "source": [
    "def getEigenMatrix(smat):\n",
    "    eigenList = getEigenVal(smat)\n",
    "    resultMatrix = []\n",
    "    for ctr in range(len(eigenList)):\n",
    "        eigval = eigenList[ctr]\n",
    "        mdiag = np.eye(smat.shape[0])*eigval\n",
    "        mtemp = mdiag - smat\n",
    "        mtemp = gaussJordanElimination(mtemp)\n",
    "\n",
    "        eigenVec = [0 for i in range(mtemp.shape[0])]\n",
    "        delta = 0\n",
    "        for i in range(len(eigenVec) - 1, -1 , -1):\n",
    "            idxUtama = getIdxUtama(mtemp, i)\n",
    "            \n",
    "            # Kalo terlompat, diisi 1\n",
    "            # Misal tadi isi x3 (idx 2) lalu x1 (idx 0) -> x2 kosong jadi assign 1\n",
    "            if (i != len(eigenVec) - 1):\n",
    "                delta = prevFilled - idxUtama - 1\n",
    "                if (delta > 0):\n",
    "                    while (delta != 0):\n",
    "                        eigenVec[prevFilled - delta] = 1.0\n",
    "                        delta -= 1\n",
    "\n",
    "            if (idxUtama == -1):\n",
    "                eigenVec[i] = 1.0\n",
    "                prevFilled = i\n",
    "            else:\n",
    "                eigenVec[idxUtama] = 0\n",
    "                prevFilled = idxUtama\n",
    "                for j in range(mtemp.shape[1]):\n",
    "                    if (j != idxUtama):\n",
    "                        eigenVec[idxUtama] -= mtemp[idxUtama, j] * eigenVec[j]\n",
    "\n",
    "        # Normalize vectors\n",
    "        tmpList = [math.pow(x, 2) for x in eigenVec]\n",
    "        vectorLength = math.sqrt(sum(tmpList))\n",
    "        eigenVec = [x/vectorLength for x in eigenVec]\n",
    "\n",
    "        resultMatrix.append(eigenVec)\n",
    "\n",
    "    resultMatrix = np.array(resultMatrix, dtype=float)\n",
    "\n",
    "    return resultMatrix.T"
   ]
  },
  {
   "cell_type": "code",
   "execution_count": 133,
   "metadata": {},
   "outputs": [
    {
     "data": {
      "text/plain": [
       "array([[ 0.40824829,  0.81649658,  0.40824829],\n",
       "       [-0.89442719,  0.4472136 ,  0.        ],\n",
       "       [-0.18257419, -0.36514837,  0.91287093]])"
      ]
     },
     "execution_count": 133,
     "metadata": {},
     "output_type": "execute_result"
    }
   ],
   "source": [
    "# VTVec\n",
    "getEigenMatrix(sright).T"
   ]
  },
  {
   "cell_type": "code",
   "execution_count": 134,
   "metadata": {},
   "outputs": [
    {
     "data": {
      "text/plain": [
       "array([[ 0.70710678, -0.70710678],\n",
       "       [ 0.70710678,  0.70710678]])"
      ]
     },
     "execution_count": 134,
     "metadata": {},
     "output_type": "execute_result"
    }
   ],
   "source": [
    "# UVec\n",
    "getEigenMatrix(sleft)"
   ]
  }
 ],
 "metadata": {
  "interpreter": {
   "hash": "63fd5069d213b44bf678585dea6b12cceca9941eaf7f819626cde1f2670de90d"
  },
  "kernelspec": {
   "display_name": "Python 3.9.5 64-bit",
   "name": "python3"
  },
  "language_info": {
   "codemirror_mode": {
    "name": "ipython",
    "version": 3
   },
   "file_extension": ".py",
   "mimetype": "text/x-python",
   "name": "python",
   "nbconvert_exporter": "python",
   "pygments_lexer": "ipython3",
   "version": "3.9.5"
  },
  "orig_nbformat": 4
 },
 "nbformat": 4,
 "nbformat_minor": 2
}
